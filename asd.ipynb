{
 "cells": [
  {
   "cell_type": "markdown",
   "id": "2f424ebe",
   "metadata": {},
   "source": [
    "## INFORME DE ANÁLISIS DE DATOS - CPM 02-2023-CG "
   ]
  },
  {
   "cell_type": "markdown",
   "id": "e36333d5",
   "metadata": {},
   "source": [
    "TEXTO TEXTOTEXTO TEXTOTEXTO TEXTOTEXTO TEXTOTEXTO TEXTOTEXTO TEXTOTEXTO TEXTOTEXTO TEXTOTEXTO TEXTOTEXTO TEXTOTEXTO TEXTOTEXTO TEXTOTEXTO TEXTOTEXTO TEXTOTEXTO TEXTOTEXTO TEXTOTEXTO TEXTOTEXTO TEXTOTEXTO TEXTOTEXTO TEXTOTEXTO TEXTOTEXTO TEXTOTEXTO TEXTOTEXTO TEXTOTEXTO TEXTOTEXTO TEXTOTEXTO TEXTOTEXTO TEXTOTEXTO TEXTOTEXTO TEXTOTEXTO TEXTOTEXTO TEXTOTEXTO TEXTOTEXTO TEXTO"
   ]
  },
  {
   "cell_type": "markdown",
   "id": "f71761fa",
   "metadata": {},
   "source": [
    "El conjunto de datos obtenido:\n",
    "    A. SICGR (PERFILES) [blue_text](https://contraloriape.sharepoint.com/:f:/r/sites/SubgerenciadePolticasyDesarrolloHumano/Documentos%20compartidos/4.%20POLDEH/00.%20DESPACHO/03.%20ENTREGAS%20DE%20CARGO/02.%20CHRISTIAN%20BERA%C3%9AN/13.%20VBA/GESTORES%20DE%20PERFILES?csf=1&web=1&e=woUm3q)\n",
    "    B. SICGR (PREGUNTAS DE REQUISTOS)"
   ]
  },
  {
   "cell_type": "code",
   "execution_count": null,
   "id": "36a75a7d",
   "metadata": {},
   "outputs": [],
   "source": []
  }
 ],
 "metadata": {
  "kernelspec": {
   "display_name": "Python 3 (ipykernel)",
   "language": "python",
   "name": "python3"
  },
  "language_info": {
   "codemirror_mode": {
    "name": "ipython",
    "version": 3
   },
   "file_extension": ".py",
   "mimetype": "text/x-python",
   "name": "python",
   "nbconvert_exporter": "python",
   "pygments_lexer": "ipython3",
   "version": "3.9.13"
  }
 },
 "nbformat": 4,
 "nbformat_minor": 5
}
